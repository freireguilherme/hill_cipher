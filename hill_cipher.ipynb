{
 "cells": [
  {
   "cell_type": "markdown",
   "id": "b0f219b1",
   "metadata": {},
   "source": [
    "### Bibliotecas\n",
    "Precisamos da biblioteca `numpy` para manipular arrays e matrizes; e `egcd` para o algoritmo Euclidiano extendido:\n",
    "\n",
    "`pip install egcd`\n",
    "\n",
    "A função egcd é uma implementação eficiente do algoritmo Euclidiano estendido . Ele aceita duas entradas inteiras b e n , retornando uma tupla da forma (gcd(b, n), a, m) onde os três inteiros na tupla satisfazem a identidade (a * b) + (n * m) == mdc(b, n).\n",
    "\n",
    "Por fim importamos argparse para manipular argumentos enviados via terminal."
   ]
  },
  {
   "cell_type": "code",
   "execution_count": 9,
   "id": "aee22f1e",
   "metadata": {},
   "outputs": [],
   "source": [
    "import numpy as np\n",
    "from egcd import egcd\n",
    "import argparse"
   ]
  },
  {
   "cell_type": "markdown",
   "id": "a5f3abe2",
   "metadata": {},
   "source": [
    "### Primeiros passos\n",
    "Definimos o nosso alfabeto com caractares mapeados da tabela ASCII. Note que nem todos os caracteres foram mapeados."
   ]
  },
  {
   "cell_type": "code",
   "execution_count": 2,
   "id": "b61ba722",
   "metadata": {},
   "outputs": [],
   "source": [
    "alfabeto = \"\" + (chr(10)) #ascii code for \\n\n",
    "\n",
    "for i in range(32, 127):\n",
    "    alfabeto += chr(i)\n",
    "for i in range(160, 255):\n",
    "    alfabeto += (chr(i))\n"
   ]
  },
  {
   "cell_type": "markdown",
   "id": "fd7b4e0d",
   "metadata": {},
   "source": [
    "Precisamos agora relacionar cada letra com um index, e cada index a uma letra. Usando o dictionary do pyhton isso se torna fácil"
   ]
  },
  {
   "cell_type": "code",
   "execution_count": 3,
   "id": "67b84963",
   "metadata": {},
   "outputs": [],
   "source": [
    "letra_index = dict(zip(alfabeto,  range(len(alfabeto)))) # 'a':0, 'b':1 ... 'z':25\n",
    "index_letra = dict(zip(range(len(alfabeto)), alfabeto))  # 0:'a', 1:'b'... 25:'z'"
   ]
  },
  {
   "cell_type": "markdown",
   "id": "f47a51af",
   "metadata": {},
   "source": [
    "### Inversa de uma matriz módulo m\n",
    "Pronto. Uma parte importante e complicada da cifra de hill é encontrar a inversa da matriz num módulo específico. Definiremos uma função que recebe uma matriz e o módulo e retorna a matriz inversa em modulo\n"
   ]
  },
  {
   "cell_type": "code",
   "execution_count": 4,
   "id": "928482b4",
   "metadata": {},
   "outputs": [],
   "source": [
    "def matriz_mod_inv(matriz, modulo):\n",
    "    '''Para encontrar a matriz inversa em modulo precisamos\n",
    "    Passo 1) Encontrar o determinante\n",
    "    Passo 2) Encontrar o valor inverso do determinante em modulo, para um modulo especifico\n",
    "    Passo 3) Resolvemos inverso do determinante vezes o determinante * matriz_inversa modulo m'''\n",
    "    \n",
    "    det = int(np.round(np.linalg.det(matriz))) #passo 1. Usamos algebra linear do numpy para isso. Arrendodamos e garantimos q seja int\n",
    "    inv_det = egcd(det, modulo)[1] % modulo    #passo 2. Aqui usamos egcd para o algoritmo euclidiano extendido\n",
    "    inv_matriz_modulo = inv_det * np.round(det * np.linalg.inv(matriz)).astype(int) % modulo #passo 3\n",
    "    \n",
    "    return inv_matriz_modulo"
   ]
  },
  {
   "cell_type": "markdown",
   "id": "573cfa41",
   "metadata": {},
   "source": [
    "### Encriptar\n",
    "Agora o algoritmo de cifração de hill"
   ]
  },
  {
   "cell_type": "code",
   "execution_count": 5,
   "id": "44850938",
   "metadata": {},
   "outputs": [],
   "source": [
    "def encrypt(mensagem, K):\n",
    "    '''Recebe um texto claro e uma matriz chave K,\n",
    "        e retorna um texto cifrado de hill'''\n",
    "\n",
    "    encriptografado = ''\n",
    "    mensagem_em_numeros = []\n",
    "    \n",
    "    #Tornar a mensagem em numeros\n",
    "    for letra in mensagem:\n",
    "        mensagem_em_numeros.append(letra_index[letra])\n",
    "        \n",
    "    \n",
    "    #Separar em tamanho da matriz K\n",
    "    separar_TextoClaro = [mensagem_em_numeros[i:i+int(K.shape[0])] for i in range(0, len(mensagem_em_numeros), int(K.shape[0]))]\n",
    "    \n",
    "    #Passa por cada parte da mensagem e encriptar usando K*P(mod m)\n",
    "    for P in separar_TextoClaro:\n",
    "        P = np.transpose(np.asarray(P))[:, np.newaxis] #precisa adicionar uma nova dimensão\n",
    "        \n",
    "        while P.shape[0] != K.shape[0]:                        #se o texto a ser cifrado é menor q a chave\n",
    "            P = np.append(P, letra_index[' '])[:, np.newaxis]  #completa com espaço em branco ' '\n",
    "\n",
    "        numeros = np.dot(K, P) % len(alfabeto)                  # K . P (produto vetorial)\n",
    "\n",
    "        n = numeros.shape[0] #n = número de colunas da matriz\n",
    "\n",
    "        #Tornar numeros em letras     \n",
    "        for idx in range(n):\n",
    "            numero = int(numeros[idx])\n",
    "            encriptografado += index_letra[numero]\n",
    "\n",
    "    return encriptografado"
   ]
  },
  {
   "cell_type": "markdown",
   "id": "dfdf76be",
   "metadata": {},
   "source": [
    "### Decriptar\n",
    "Agora o algoritmo de decifração de hill"
   ]
  },
  {
   "cell_type": "code",
   "execution_count": 6,
   "id": "1d477488",
   "metadata": {},
   "outputs": [],
   "source": [
    "def decrypt (cifra, Kinv):\n",
    "    '''Recebe um texto cifrado de hill e\n",
    "    e uma matriz inversa da matriz K'''\n",
    "\n",
    "    decifrado = ''\n",
    "    cifra_em_numeros = []\n",
    "    \n",
    "    #Tornar mensagem cifrada em numeros\n",
    "    for letra in cifra:\n",
    "        cifra_em_numeros.append(letra_index[letra])\n",
    "    \n",
    "    #Separar em tamanho da matriz inversa K\n",
    "    separar_TextoCifrado = [cifra_em_numeros[i:i + int(Kinv.shape[0])] for i in range(0, len(cifra_em_numeros), int(Kinv.shape[0]))]\n",
    "    \n",
    "    #Iterar por cada cifra parcial e decriptar usando inv(K)*C (mod 26)\n",
    "    for C in separar_TextoCifrado:\n",
    "        C = np.transpose(np.asarray(C))[:, np.newaxis]\n",
    "        numeros = np.dot(Kinv, C) % len(alfabeto)\n",
    "        n = numeros.shape[0]\n",
    "    \n",
    "    #Tornar numeros em letras\n",
    "        for idx in range(n):\n",
    "            numero = int(numeros[idx])\n",
    "            decifrado += index_letra[numero]\n",
    "\n",
    "    return decifrado"
   ]
  },
  {
   "cell_type": "markdown",
   "id": "fef7d4b8",
   "metadata": {},
   "source": [
    "### Função main. \n",
    "Ela lida com os argumentos passados via terminal e chama as funções encrypt ou decrypt. A matriz chave K também é definida aqui"
   ]
  },
  {
   "cell_type": "code",
   "execution_count": 21,
   "id": "94c6badb",
   "metadata": {},
   "outputs": [],
   "source": [
    "def main():\n",
    "    '''Por meio de argumentos, informa se é motivo de encriptar ou decifrar, o nome do arquivo de \n",
    "    texto em txt a ser manipulado e o nome do arquivo de texto txt onde será a saída\n",
    "    \n",
    "    o texto de entrada pode conter esses caracteres:\n",
    "    \" !\"#$%&'()*+,-./0123456789:;<=>?@ABCDEFGHIJKLMNOPQRSTUVWXYZ[\\]^_`abcdefghijklmnopqrstuvwxyz{|}~ ¡¢£¤¥¦§¨©ª«¬­®¯°±²³´µ¶·¸¹º»¼½¾¿ÀÁÂÃÄÅÆÇÈÉÊËÌÍÎÏÐÑÒÓÔÕÖ×ØÙÚÛÜÝÞßàáâãäåæçèéêëìíîïðñòóôõö÷øùúûüýþ\"\n",
    "    Um exemplo de como passar os argumentos para encriptar usando cifra de hill:\n",
    "    cifrahill.py --enc textoclaro.txt --out textocifrado.txt\n",
    "    \n",
    "    Exemplo para decifrar\n",
    "    cifrahill.py --dec textocifrado.txt --out textoclaro.txt'''\n",
    "\n",
    "    parser = argparse.ArgumentParser(\n",
    "    prog=\"Cifra de hill\",\n",
    "    description=\"recebe um arquivo txt e devolve um arquivo txt. Se --enc, encripta. Se --dec, decifra. Uso: cifrahill.py --enc textoclaro.txt --out textocifrado.txt para cifrar. cifrahill.py --dec textocifrado.txt --out textoclaro.txt. O nome do arquivo nao importa\",\n",
    "    epilog = \"Programa para encriptar ou decifrar por meio da cifra de hill. As opcoes sao --enc, --dec, --out \",\n",
    "    formatter_class=argparse.ArgumentDefaultsHelpFormatter)\n",
    "\n",
    "    parser.add_argument(\"-e\", \"--enc\", action=\"store\", type=str, help=\"encripta texto\")\n",
    "    parser.add_argument(\"-d\", \"--dec\", action=\"store\", type=str, help=\"decripta texto\")\n",
    "    parser.add_argument(\"-o\", \"--out\", action=\"store\", type=str, help=\"arquivo de saída\")\n",
    "\n",
    "    #K = np.array([[3,3],[2,5]]) #chave para alfabeto 26 letras\n",
    "    #mensagem = 'elementos de criptografia e seguranca cifra de hill'\n",
    "    \n",
    "    K = np.matrix([[3,10,20],[28,19,17],[23,78,17]]) #para alfabeto 27 letras (26 letras + ' '). A matriz precisa ser tal q K * K^-1 = matriz identidade\n",
    "    \n",
    "    args = parser.parse_args()\n",
    "    try:\n",
    "        if (args.enc):\n",
    "            with open(args.enc, 'r') as arquivo:\n",
    "                texto = arquivo.readlines()\n",
    "\n",
    "            mensagem_cifrada = encrypt(\"\".join(texto), K)\n",
    "            with open(args.out, mode='w') as arquivo:\n",
    "                arquivo.writelines(mensagem_cifrada)\n",
    "\n",
    "        elif(args.dec):\n",
    "            with open(args.dec, 'r') as arquivo:\n",
    "                texto = arquivo.readlines()\n",
    "            Kinv = matriz_mod_inv(K, len(alfabeto))\n",
    "            mensagem_decifrada = decrypt(\"\".join(texto), Kinv)\n",
    "            with open(args.out, mode='w') as arquivo:\n",
    "                arquivo.writelines(mensagem_decifrada)\n",
    "\n",
    "        else:\n",
    "            print('opcção inválida. tente -h ou --help')\n",
    "    except UnicodeEncodeError as error:\n",
    "        print(error)\n",
    "        print(\"Nao foi possivel, talvez algum caractere no texto de entrada nao pôde ser interpretado.\")\n",
    "    except KeyError as error:\n",
    "        print(error)\n",
    "        print(\"Nao foi possivel, talvez algum caractere no texto de entrada nao pôde ser interpretado.\")\n",
    "    except FileNotFoundError as error:\n",
    "        print(error)\n",
    "        print(\"Arquivo de entrada nao localizado\")"
   ]
  },
  {
   "cell_type": "code",
   "execution_count": 23,
   "id": "67c3a2fe",
   "metadata": {},
   "outputs": [],
   "source": [
    "! python -u cifrahill.py --enc textoclaro.txt --out textocifrado.txt"
   ]
  },
  {
   "cell_type": "markdown",
   "id": "714dcf66",
   "metadata": {},
   "source": [
    "### Como executar o programa\n",
    "\n",
    "Para cifrar um texto que está num arquivo txt, basta executar o comando\n",
    "\n",
    "`python -u cifrahill.py --enc textoclaro.txt --out textocifrado.txt`\n",
    "\n",
    "Para decifrar um texto que está num arquivo txt, basta executar o comando\n",
    "\n",
    "`python -u cifrahill.py --dec textocifrado.txt --out textoclaro.txt`\n",
    "\n",
    "Os nomes dos arquivos podem ser qualquer. O arquivo de entrada (--enc ou --dec) precisa existir."
   ]
  }
 ],
 "metadata": {
  "kernelspec": {
   "display_name": "Python 3.9.13 ('cripto')",
   "language": "python",
   "name": "python3"
  },
  "language_info": {
   "codemirror_mode": {
    "name": "ipython",
    "version": 3
   },
   "file_extension": ".py",
   "mimetype": "text/x-python",
   "name": "python",
   "nbconvert_exporter": "python",
   "pygments_lexer": "ipython3",
   "version": "3.9.13"
  },
  "vscode": {
   "interpreter": {
    "hash": "f655fa4192d9a874cbafb47b442fb92b29753b88da1c034c54c9b07b91cc05d8"
   }
  }
 },
 "nbformat": 4,
 "nbformat_minor": 5
}
